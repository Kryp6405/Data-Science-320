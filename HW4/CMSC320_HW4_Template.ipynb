{
  "cells": [
    {
      "cell_type": "markdown",
      "metadata": {
        "id": "97Cgwu6BeOyk"
      },
      "source": [
        "Download [this dataset](https://drive.google.com/file/d/1Irwl_iBBarUuZNiSesy7KK6v8ImCRPfx/view?usp=sharing) and do the following:"
      ]
    },
    {
      "cell_type": "markdown",
      "metadata": {
        "id": "GZOZC2-Iedjx"
      },
      "source": [
        "---------------------------------------------------------------------------------------------------------------------\n"
      ]
    },
    {
      "cell_type": "markdown",
      "metadata": {
        "id": "oUeqohtRdA8e"
      },
      "source": [
        "Part 1: Classify the 'Results' column using three models of your choice.\n",
        "At least one must get 90% accuracy with at least 50% precision with ten fold cross validation. Print your confusion matrix."
      ]
    },
    {
      "cell_type": "markdown",
      "metadata": {
        "id": "omQmIddLdpL1"
      },
      "source": [
        "Read in the dataset:"
      ]
    },
    {
      "cell_type": "code",
      "execution_count": 1,
      "metadata": {
        "id": "g9-WjWY4dNQf"
      },
      "outputs": [
        {
          "data": {
            "text/html": [
              "<div>\n",
              "<style scoped>\n",
              "    .dataframe tbody tr th:only-of-type {\n",
              "        vertical-align: middle;\n",
              "    }\n",
              "\n",
              "    .dataframe tbody tr th {\n",
              "        vertical-align: top;\n",
              "    }\n",
              "\n",
              "    .dataframe thead th {\n",
              "        text-align: right;\n",
              "    }\n",
              "</style>\n",
              "<table border=\"1\" class=\"dataframe\">\n",
              "  <thead>\n",
              "    <tr style=\"text-align: right;\">\n",
              "      <th></th>\n",
              "      <th>0</th>\n",
              "      <th>1</th>\n",
              "      <th>2</th>\n",
              "      <th>3</th>\n",
              "      <th>4</th>\n",
              "      <th>5</th>\n",
              "      <th>6</th>\n",
              "      <th>7</th>\n",
              "      <th>8</th>\n",
              "      <th>9</th>\n",
              "      <th>10</th>\n",
              "      <th>11</th>\n",
              "      <th>Results</th>\n",
              "    </tr>\n",
              "  </thead>\n",
              "  <tbody>\n",
              "    <tr>\n",
              "      <th>0</th>\n",
              "      <td>-2.952927</td>\n",
              "      <td>1.184525</td>\n",
              "      <td>1.226833</td>\n",
              "      <td>-2.931165</td>\n",
              "      <td>-2.952927</td>\n",
              "      <td>-2.175042</td>\n",
              "      <td>-2.931165</td>\n",
              "      <td>-0.969470</td>\n",
              "      <td>-2.175042</td>\n",
              "      <td>-2.703467</td>\n",
              "      <td>-1.730694</td>\n",
              "      <td>0.674750</td>\n",
              "      <td>0</td>\n",
              "    </tr>\n",
              "    <tr>\n",
              "      <th>1</th>\n",
              "      <td>-2.391714</td>\n",
              "      <td>0.327538</td>\n",
              "      <td>0.876101</td>\n",
              "      <td>-2.734864</td>\n",
              "      <td>-2.391714</td>\n",
              "      <td>-1.747243</td>\n",
              "      <td>-2.734864</td>\n",
              "      <td>-1.153921</td>\n",
              "      <td>-1.747243</td>\n",
              "      <td>-1.688038</td>\n",
              "      <td>-1.551229</td>\n",
              "      <td>1.293129</td>\n",
              "      <td>0</td>\n",
              "    </tr>\n",
              "    <tr>\n",
              "      <th>2</th>\n",
              "      <td>-3.405944</td>\n",
              "      <td>0.540775</td>\n",
              "      <td>1.229768</td>\n",
              "      <td>-2.216754</td>\n",
              "      <td>-3.405944</td>\n",
              "      <td>-2.807417</td>\n",
              "      <td>-2.216754</td>\n",
              "      <td>-2.616736</td>\n",
              "      <td>-2.807417</td>\n",
              "      <td>-0.803270</td>\n",
              "      <td>0.872962</td>\n",
              "      <td>-0.728645</td>\n",
              "      <td>0</td>\n",
              "    </tr>\n",
              "    <tr>\n",
              "      <th>3</th>\n",
              "      <td>-0.699303</td>\n",
              "      <td>1.508910</td>\n",
              "      <td>-0.457514</td>\n",
              "      <td>0.043826</td>\n",
              "      <td>-0.699303</td>\n",
              "      <td>-0.892224</td>\n",
              "      <td>0.043826</td>\n",
              "      <td>-1.525033</td>\n",
              "      <td>-0.892224</td>\n",
              "      <td>0.406936</td>\n",
              "      <td>2.409556</td>\n",
              "      <td>-2.804476</td>\n",
              "      <td>0</td>\n",
              "    </tr>\n",
              "    <tr>\n",
              "      <th>4</th>\n",
              "      <td>-0.336467</td>\n",
              "      <td>1.690297</td>\n",
              "      <td>-1.058940</td>\n",
              "      <td>-0.340338</td>\n",
              "      <td>-0.336467</td>\n",
              "      <td>-0.036228</td>\n",
              "      <td>-0.340338</td>\n",
              "      <td>-1.671984</td>\n",
              "      <td>-0.036228</td>\n",
              "      <td>0.056554</td>\n",
              "      <td>1.708848</td>\n",
              "      <td>-1.761093</td>\n",
              "      <td>0</td>\n",
              "    </tr>\n",
              "  </tbody>\n",
              "</table>\n",
              "</div>"
            ],
            "text/plain": [
              "          0         1         2         3         4         5         6  \\\n",
              "0 -2.952927  1.184525  1.226833 -2.931165 -2.952927 -2.175042 -2.931165   \n",
              "1 -2.391714  0.327538  0.876101 -2.734864 -2.391714 -1.747243 -2.734864   \n",
              "2 -3.405944  0.540775  1.229768 -2.216754 -3.405944 -2.807417 -2.216754   \n",
              "3 -0.699303  1.508910 -0.457514  0.043826 -0.699303 -0.892224  0.043826   \n",
              "4 -0.336467  1.690297 -1.058940 -0.340338 -0.336467 -0.036228 -0.340338   \n",
              "\n",
              "          7         8         9        10        11  Results  \n",
              "0 -0.969470 -2.175042 -2.703467 -1.730694  0.674750        0  \n",
              "1 -1.153921 -1.747243 -1.688038 -1.551229  1.293129        0  \n",
              "2 -2.616736 -2.807417 -0.803270  0.872962 -0.728645        0  \n",
              "3 -1.525033 -0.892224  0.406936  2.409556 -2.804476        0  \n",
              "4 -1.671984 -0.036228  0.056554  1.708848 -1.761093        0  "
            ]
          },
          "execution_count": 1,
          "metadata": {},
          "output_type": "execute_result"
        }
      ],
      "source": [
        "import pandas as pd\n",
        "\n",
        "df = pd.read_csv('homework4.csv')\n",
        "data = df.drop(columns=['Unnamed: 0'])\n",
        "\n",
        "data.head()"
      ]
    },
    {
      "cell_type": "code",
      "execution_count": 2,
      "metadata": {},
      "outputs": [],
      "source": [
        "# Separate features (X) from the target (y)\n",
        "X = data.drop(columns=['Results'])\n",
        "y = data['Results']"
      ]
    },
    {
      "cell_type": "code",
      "execution_count": 3,
      "metadata": {},
      "outputs": [],
      "source": [
        "import pandas as pd\n",
        "import numpy as np\n",
        "from IPython.display import display\n",
        "\n",
        "def view_results(accuracies, precisions):\n",
        "    stats = {\n",
        "        'Min': [np.min(accuracies), np.min(precisions)],\n",
        "        'Average': [np.mean(accuracies), np.mean(precisions)],\n",
        "        'Max': [np.max(accuracies), np.max(precisions)]\n",
        "    }\n",
        "    \n",
        "    # Create DataFrame\n",
        "    df = pd.DataFrame(stats, index=['Accuracy', 'Precision'])\n",
        "    \n",
        "    # Format DataFrame\n",
        "    df_formatted = df.style.format(\"{:.3f}\") \\\n",
        "        .set_caption(\"Model Performance Metrics\") \\\n",
        "        .set_table_styles([\n",
        "            {'selector': 'caption',\n",
        "             'props': [('font-size', '16pt'),\n",
        "                       ('text-align', 'center'),\n",
        "                       ('color', '#4F81BD'),\n",
        "                       ('font-weight', 'bold')]},\n",
        "            {'selector': 'th',\n",
        "             'props': [('font-size', '12pt'),\n",
        "                       ('background-color', '#F2F2F2'),\n",
        "                       ('text-align', 'center')]},\n",
        "            {'selector': 'td',\n",
        "             'props': [('font-size', '12pt'),\n",
        "                       ('text-align', 'center')]}\n",
        "        ]) \\\n",
        "        .background_gradient(cmap='Blues', axis=None)\n",
        "    \n",
        "    display(df_formatted)\n",
        "\n",
        "\n",
        "def view_confusion_matrix(conf_matrix):\n",
        "    \"\"\"\n",
        "    Displays a formatted confusion matrix.\n",
        "\n",
        "    Parameters:\n",
        "    - conf_matrix: 2D array or DataFrame representing the confusion matrix\n",
        "    - labels: list of label names for the classes (optional)\n",
        "    \"\"\"\n",
        "\n",
        "    df_cm = pd.DataFrame(conf_matrix)\n",
        "    df_cm.columns = [f'Predicted {i}' for i in df_cm.columns]\n",
        "    df_cm.index = [f'Expected {i}' for i in df_cm.index]\n",
        "    \n",
        "    # Format DataFrame\n",
        "    df_formatted = df_cm.style \\\n",
        "        .set_caption(\"Confusion Matrix\") \\\n",
        "        .set_table_styles([\n",
        "            {'selector': 'caption',\n",
        "             'props': [('font-size', '16pt'),\n",
        "                       ('text-align', 'center'),\n",
        "                       ('color', '#4F81BD'),\n",
        "                       ('font-weight', 'bold')]},\n",
        "            {'selector': 'th',\n",
        "             'props': [('font-size', '12pt'),\n",
        "                       ('background-color', '#F2F2F2'),\n",
        "                       ('text-align', 'center')]},\n",
        "            {'selector': 'td',\n",
        "             'props': [('font-size', '12pt'),\n",
        "                       ('text-align', 'center')]}\n",
        "        ]) \\\n",
        "        .background_gradient(cmap='Blues')\n",
        "    \n",
        "    display(df_formatted)"
      ]
    },
    {
      "cell_type": "markdown",
      "metadata": {
        "id": "rRPlkJutduEb"
      },
      "source": [
        "Classify 'Results' column with Model #1:"
      ]
    },
    {
      "cell_type": "code",
      "execution_count": 4,
      "metadata": {
        "id": "rbbMr40Qd34P"
      },
      "outputs": [],
      "source": [
        "from sklearn.model_selection import cross_val_score, StratifiedKFold\n",
        "from sklearn.metrics import confusion_matrix\n",
        "from sklearn.ensemble import RandomForestClassifier\n",
        "\n",
        "# Initialize Model #1: Random Forest\n",
        "random_forest_model = RandomForestClassifier(random_state=0)\n",
        "\n",
        "# Perform 10-fold cross-validation and calculate accuracy and precision\n",
        "kf = StratifiedKFold(n_splits=10, shuffle=True, random_state=0)\n",
        "random_forest_accuracies = cross_val_score(random_forest_model, X, y, cv=kf, scoring='accuracy')\n",
        "random_forest_precisions = cross_val_score(random_forest_model, X, y, cv=kf, scoring='precision')\n",
        "\n",
        "# Train and evaluate using the entire dataset to obtain confusion matrix\n",
        "random_forest_model.fit(X, y)\n",
        "random_forest_y_pred = random_forest_model.predict(X)\n",
        "random_forest_conf_matrix = confusion_matrix(y, random_forest_y_pred)\n"
      ]
    },
    {
      "cell_type": "code",
      "execution_count": 16,
      "metadata": {},
      "outputs": [
        {
          "data": {
            "text/plain": [
              "['random_forest_model.pkl']"
            ]
          },
          "execution_count": 16,
          "metadata": {},
          "output_type": "execute_result"
        }
      ],
      "source": [
        "import joblib\n",
        "\n",
        "joblib.dump(random_forest_model, 'random_forest_model.pkl')"
      ]
    },
    {
      "cell_type": "code",
      "execution_count": 5,
      "metadata": {},
      "outputs": [
        {
          "data": {
            "text/html": [
              "<style type=\"text/css\">\n",
              "#T_e315f caption {\n",
              "  font-size: 16pt;\n",
              "  text-align: center;\n",
              "  color: #4F81BD;\n",
              "  font-weight: bold;\n",
              "}\n",
              "#T_e315f th {\n",
              "  font-size: 12pt;\n",
              "  background-color: #F2F2F2;\n",
              "  text-align: center;\n",
              "}\n",
              "#T_e315f td {\n",
              "  font-size: 12pt;\n",
              "  text-align: center;\n",
              "}\n",
              "#T_e315f_row0_col0 {\n",
              "  background-color: #0d57a1;\n",
              "  color: #f1f1f1;\n",
              "}\n",
              "#T_e315f_row0_col1 {\n",
              "  background-color: #084488;\n",
              "  color: #f1f1f1;\n",
              "}\n",
              "#T_e315f_row0_col2 {\n",
              "  background-color: #08306b;\n",
              "  color: #f1f1f1;\n",
              "}\n",
              "#T_e315f_row1_col0 {\n",
              "  background-color: #f7fbff;\n",
              "  color: #000000;\n",
              "}\n",
              "#T_e315f_row1_col1 {\n",
              "  background-color: #549fcd;\n",
              "  color: #f1f1f1;\n",
              "}\n",
              "#T_e315f_row1_col2 {\n",
              "  background-color: #083370;\n",
              "  color: #f1f1f1;\n",
              "}\n",
              "</style>\n",
              "<table id=\"T_e315f\">\n",
              "  <caption>Model Performance Metrics</caption>\n",
              "  <thead>\n",
              "    <tr>\n",
              "      <th class=\"blank level0\" >&nbsp;</th>\n",
              "      <th id=\"T_e315f_level0_col0\" class=\"col_heading level0 col0\" >Min</th>\n",
              "      <th id=\"T_e315f_level0_col1\" class=\"col_heading level0 col1\" >Average</th>\n",
              "      <th id=\"T_e315f_level0_col2\" class=\"col_heading level0 col2\" >Max</th>\n",
              "    </tr>\n",
              "  </thead>\n",
              "  <tbody>\n",
              "    <tr>\n",
              "      <th id=\"T_e315f_level0_row0\" class=\"row_heading level0 row0\" >Accuracy</th>\n",
              "      <td id=\"T_e315f_row0_col0\" class=\"data row0 col0\" >0.905</td>\n",
              "      <td id=\"T_e315f_row0_col1\" class=\"data row0 col1\" >0.913</td>\n",
              "      <td id=\"T_e315f_row0_col2\" class=\"data row0 col2\" >0.922</td>\n",
              "    </tr>\n",
              "    <tr>\n",
              "      <th id=\"T_e315f_level0_row1\" class=\"row_heading level0 row1\" >Precision</th>\n",
              "      <td id=\"T_e315f_row1_col0\" class=\"data row1 col0\" >0.808</td>\n",
              "      <td id=\"T_e315f_row1_col1\" class=\"data row1 col1\" >0.873</td>\n",
              "      <td id=\"T_e315f_row1_col2\" class=\"data row1 col2\" >0.921</td>\n",
              "    </tr>\n",
              "  </tbody>\n",
              "</table>\n"
            ],
            "text/plain": [
              "<pandas.io.formats.style.Styler at 0x1b9a9e53550>"
            ]
          },
          "metadata": {},
          "output_type": "display_data"
        }
      ],
      "source": [
        "view_results(random_forest_accuracies, random_forest_precisions)"
      ]
    },
    {
      "cell_type": "code",
      "execution_count": 6,
      "metadata": {},
      "outputs": [
        {
          "data": {
            "text/html": [
              "<style type=\"text/css\">\n",
              "#T_31c1e caption {\n",
              "  font-size: 16pt;\n",
              "  text-align: center;\n",
              "  color: #4F81BD;\n",
              "  font-weight: bold;\n",
              "}\n",
              "#T_31c1e th {\n",
              "  font-size: 12pt;\n",
              "  background-color: #F2F2F2;\n",
              "  text-align: center;\n",
              "}\n",
              "#T_31c1e td {\n",
              "  font-size: 12pt;\n",
              "  text-align: center;\n",
              "}\n",
              "#T_31c1e_row0_col0, #T_31c1e_row1_col1 {\n",
              "  background-color: #08306b;\n",
              "  color: #f1f1f1;\n",
              "}\n",
              "#T_31c1e_row0_col1, #T_31c1e_row1_col0 {\n",
              "  background-color: #f7fbff;\n",
              "  color: #000000;\n",
              "}\n",
              "</style>\n",
              "<table id=\"T_31c1e\">\n",
              "  <caption>Confusion Matrix</caption>\n",
              "  <thead>\n",
              "    <tr>\n",
              "      <th class=\"blank level0\" >&nbsp;</th>\n",
              "      <th id=\"T_31c1e_level0_col0\" class=\"col_heading level0 col0\" >Predicted 0</th>\n",
              "      <th id=\"T_31c1e_level0_col1\" class=\"col_heading level0 col1\" >Predicted 1</th>\n",
              "    </tr>\n",
              "  </thead>\n",
              "  <tbody>\n",
              "    <tr>\n",
              "      <th id=\"T_31c1e_level0_row0\" class=\"row_heading level0 row0\" >Expected 0</th>\n",
              "      <td id=\"T_31c1e_row0_col0\" class=\"data row0 col0\" >8591</td>\n",
              "      <td id=\"T_31c1e_row0_col1\" class=\"data row0 col1\" >0</td>\n",
              "    </tr>\n",
              "    <tr>\n",
              "      <th id=\"T_31c1e_level0_row1\" class=\"row_heading level0 row1\" >Expected 1</th>\n",
              "      <td id=\"T_31c1e_row1_col0\" class=\"data row1 col0\" >0</td>\n",
              "      <td id=\"T_31c1e_row1_col1\" class=\"data row1 col1\" >1409</td>\n",
              "    </tr>\n",
              "  </tbody>\n",
              "</table>\n"
            ],
            "text/plain": [
              "<pandas.io.formats.style.Styler at 0x1b9a9e53730>"
            ]
          },
          "metadata": {},
          "output_type": "display_data"
        }
      ],
      "source": [
        "view_confusion_matrix(random_forest_conf_matrix)"
      ]
    },
    {
      "cell_type": "markdown",
      "metadata": {
        "id": "3_zvgnYVd4PP"
      },
      "source": [
        "Classify 'Results' column with Model #2:"
      ]
    },
    {
      "cell_type": "code",
      "execution_count": 7,
      "metadata": {
        "id": "o3kY7jZdd5MN"
      },
      "outputs": [],
      "source": [
        "from sklearn.model_selection import cross_val_score, StratifiedKFold\n",
        "from sklearn.metrics import confusion_matrix\n",
        "from sklearn.neighbors import KNeighborsClassifier\n",
        "\n",
        "# Initialize Model #2: Naive Bayes\n",
        "knn_model = KNeighborsClassifier()\n",
        "\n",
        "# Perform 10-fold cross-validation and calculate accuracy and precision\n",
        "kf = StratifiedKFold (n_splits=10, shuffle=True, random_state=0)\n",
        "knn_accuracies = cross_val_score(knn_model, X, y, cv=kf, scoring='accuracy')\n",
        "knn_precisions = cross_val_score(knn_model, X, y, cv=kf, scoring='precision')\n",
        "\n",
        "# Train and evaluate using the entire dataset to obtain confusion matrix\n",
        "knn_model.fit(X, y)\n",
        "knn_y_pred = knn_model.predict(X)\n",
        "knn_conf_matrix = confusion_matrix(y, knn_y_pred)"
      ]
    },
    {
      "cell_type": "code",
      "execution_count": 17,
      "metadata": {},
      "outputs": [
        {
          "data": {
            "text/plain": [
              "['knn_model.pkl']"
            ]
          },
          "execution_count": 17,
          "metadata": {},
          "output_type": "execute_result"
        }
      ],
      "source": [
        "joblib.dump(knn_model, 'knn_model.pkl')"
      ]
    },
    {
      "cell_type": "code",
      "execution_count": 8,
      "metadata": {},
      "outputs": [
        {
          "data": {
            "text/html": [
              "<style type=\"text/css\">\n",
              "#T_d4365 caption {\n",
              "  font-size: 16pt;\n",
              "  text-align: center;\n",
              "  color: #4F81BD;\n",
              "  font-weight: bold;\n",
              "}\n",
              "#T_d4365 th {\n",
              "  font-size: 12pt;\n",
              "  background-color: #F2F2F2;\n",
              "  text-align: center;\n",
              "}\n",
              "#T_d4365 td {\n",
              "  font-size: 12pt;\n",
              "  text-align: center;\n",
              "}\n",
              "#T_d4365_row0_col0 {\n",
              "  background-color: #1a68ae;\n",
              "  color: #f1f1f1;\n",
              "}\n",
              "#T_d4365_row0_col1 {\n",
              "  background-color: #0e58a2;\n",
              "  color: #f1f1f1;\n",
              "}\n",
              "#T_d4365_row0_col2 {\n",
              "  background-color: #08306b;\n",
              "  color: #f1f1f1;\n",
              "}\n",
              "#T_d4365_row1_col0 {\n",
              "  background-color: #f7fbff;\n",
              "  color: #000000;\n",
              "}\n",
              "#T_d4365_row1_col1 {\n",
              "  background-color: #a6cee4;\n",
              "  color: #000000;\n",
              "}\n",
              "#T_d4365_row1_col2 {\n",
              "  background-color: #083573;\n",
              "  color: #f1f1f1;\n",
              "}\n",
              "</style>\n",
              "<table id=\"T_d4365\">\n",
              "  <caption>Model Performance Metrics</caption>\n",
              "  <thead>\n",
              "    <tr>\n",
              "      <th class=\"blank level0\" >&nbsp;</th>\n",
              "      <th id=\"T_d4365_level0_col0\" class=\"col_heading level0 col0\" >Min</th>\n",
              "      <th id=\"T_d4365_level0_col1\" class=\"col_heading level0 col1\" >Average</th>\n",
              "      <th id=\"T_d4365_level0_col2\" class=\"col_heading level0 col2\" >Max</th>\n",
              "    </tr>\n",
              "  </thead>\n",
              "  <tbody>\n",
              "    <tr>\n",
              "      <th id=\"T_d4365_level0_row0\" class=\"row_heading level0 row0\" >Accuracy</th>\n",
              "      <td id=\"T_d4365_row0_col0\" class=\"data row0 col0\" >0.905</td>\n",
              "      <td id=\"T_d4365_row0_col1\" class=\"data row0 col1\" >0.911</td>\n",
              "      <td id=\"T_d4365_row0_col2\" class=\"data row0 col2\" >0.926</td>\n",
              "    </tr>\n",
              "    <tr>\n",
              "      <th id=\"T_d4365_level0_row1\" class=\"row_heading level0 row1\" >Precision</th>\n",
              "      <td id=\"T_d4365_row1_col0\" class=\"data row1 col0\" >0.829</td>\n",
              "      <td id=\"T_d4365_row1_col1\" class=\"data row1 col1\" >0.863</td>\n",
              "      <td id=\"T_d4365_row1_col2\" class=\"data row1 col2\" >0.924</td>\n",
              "    </tr>\n",
              "  </tbody>\n",
              "</table>\n"
            ],
            "text/plain": [
              "<pandas.io.formats.style.Styler at 0x1b9abd51eb0>"
            ]
          },
          "metadata": {},
          "output_type": "display_data"
        }
      ],
      "source": [
        "view_results(knn_accuracies, knn_precisions)"
      ]
    },
    {
      "cell_type": "code",
      "execution_count": 9,
      "metadata": {},
      "outputs": [
        {
          "data": {
            "text/html": [
              "<style type=\"text/css\">\n",
              "#T_6090d caption {\n",
              "  font-size: 16pt;\n",
              "  text-align: center;\n",
              "  color: #4F81BD;\n",
              "  font-weight: bold;\n",
              "}\n",
              "#T_6090d th {\n",
              "  font-size: 12pt;\n",
              "  background-color: #F2F2F2;\n",
              "  text-align: center;\n",
              "}\n",
              "#T_6090d td {\n",
              "  font-size: 12pt;\n",
              "  text-align: center;\n",
              "}\n",
              "#T_6090d_row0_col0, #T_6090d_row1_col1 {\n",
              "  background-color: #08306b;\n",
              "  color: #f1f1f1;\n",
              "}\n",
              "#T_6090d_row0_col1, #T_6090d_row1_col0 {\n",
              "  background-color: #f7fbff;\n",
              "  color: #000000;\n",
              "}\n",
              "</style>\n",
              "<table id=\"T_6090d\">\n",
              "  <caption>Confusion Matrix</caption>\n",
              "  <thead>\n",
              "    <tr>\n",
              "      <th class=\"blank level0\" >&nbsp;</th>\n",
              "      <th id=\"T_6090d_level0_col0\" class=\"col_heading level0 col0\" >Predicted 0</th>\n",
              "      <th id=\"T_6090d_level0_col1\" class=\"col_heading level0 col1\" >Predicted 1</th>\n",
              "    </tr>\n",
              "  </thead>\n",
              "  <tbody>\n",
              "    <tr>\n",
              "      <th id=\"T_6090d_level0_row0\" class=\"row_heading level0 row0\" >Expected 0</th>\n",
              "      <td id=\"T_6090d_row0_col0\" class=\"data row0 col0\" >8524</td>\n",
              "      <td id=\"T_6090d_row0_col1\" class=\"data row0 col1\" >67</td>\n",
              "    </tr>\n",
              "    <tr>\n",
              "      <th id=\"T_6090d_level0_row1\" class=\"row_heading level0 row1\" >Expected 1</th>\n",
              "      <td id=\"T_6090d_row1_col0\" class=\"data row1 col0\" >719</td>\n",
              "      <td id=\"T_6090d_row1_col1\" class=\"data row1 col1\" >690</td>\n",
              "    </tr>\n",
              "  </tbody>\n",
              "</table>\n"
            ],
            "text/plain": [
              "<pandas.io.formats.style.Styler at 0x1b9f99bc820>"
            ]
          },
          "metadata": {},
          "output_type": "display_data"
        }
      ],
      "source": [
        "view_confusion_matrix(knn_conf_matrix)"
      ]
    },
    {
      "cell_type": "markdown",
      "metadata": {
        "id": "IQtoPAmed5zo"
      },
      "source": [
        "Classify 'Results' column with Model #3:"
      ]
    },
    {
      "cell_type": "code",
      "execution_count": 10,
      "metadata": {
        "id": "E6MJ0wrod65Q"
      },
      "outputs": [],
      "source": [
        "from sklearn.model_selection import cross_val_score, StratifiedKFold\n",
        "from sklearn.metrics import confusion_matrix\n",
        "from sklearn.neural_network import MLPClassifier\n",
        "\n",
        "# Initialize Model #3: Neural Network\n",
        "neural_network_model = MLPClassifier(hidden_layer_sizes=(50,), max_iter=200, random_state=0)\n",
        "\n",
        "# Perform 10-fold cross-validation and calculate accuracy and precision\n",
        "kf = StratifiedKFold(n_splits=10, shuffle=True, random_state=0)\n",
        "neural_network_accuracies = cross_val_score(neural_network_model, X, y, cv=kf, scoring='accuracy')\n",
        "neural_network_precisions = cross_val_score(neural_network_model, X, y, cv=kf, scoring='precision')\n",
        "\n",
        "# Train and evaluate using the entire dataset to obtain confusion matrix\n",
        "neural_network_model.fit(X, y)\n",
        "neural_network_y_pred = neural_network_model.predict(X)\n",
        "neural_network_conf_matrix = confusion_matrix(y, neural_network_y_pred)"
      ]
    },
    {
      "cell_type": "code",
      "execution_count": 18,
      "metadata": {},
      "outputs": [
        {
          "data": {
            "text/plain": [
              "['neural_network_model.pkl']"
            ]
          },
          "execution_count": 18,
          "metadata": {},
          "output_type": "execute_result"
        }
      ],
      "source": [
        "joblib.dump(neural_network_model, 'neural_network_model.pkl')"
      ]
    },
    {
      "cell_type": "code",
      "execution_count": 11,
      "metadata": {},
      "outputs": [
        {
          "data": {
            "text/html": [
              "<style type=\"text/css\">\n",
              "#T_4a8bb caption {\n",
              "  font-size: 16pt;\n",
              "  text-align: center;\n",
              "  color: #4F81BD;\n",
              "  font-weight: bold;\n",
              "}\n",
              "#T_4a8bb th {\n",
              "  font-size: 12pt;\n",
              "  background-color: #F2F2F2;\n",
              "  text-align: center;\n",
              "}\n",
              "#T_4a8bb td {\n",
              "  font-size: 12pt;\n",
              "  text-align: center;\n",
              "}\n",
              "#T_4a8bb_row0_col0 {\n",
              "  background-color: #2777b8;\n",
              "  color: #f1f1f1;\n",
              "}\n",
              "#T_4a8bb_row0_col1 {\n",
              "  background-color: #1663aa;\n",
              "  color: #f1f1f1;\n",
              "}\n",
              "#T_4a8bb_row0_col2 {\n",
              "  background-color: #084082;\n",
              "  color: #f1f1f1;\n",
              "}\n",
              "#T_4a8bb_row1_col0 {\n",
              "  background-color: #f7fbff;\n",
              "  color: #000000;\n",
              "}\n",
              "#T_4a8bb_row1_col1 {\n",
              "  background-color: #66abd4;\n",
              "  color: #f1f1f1;\n",
              "}\n",
              "#T_4a8bb_row1_col2 {\n",
              "  background-color: #08306b;\n",
              "  color: #f1f1f1;\n",
              "}\n",
              "</style>\n",
              "<table id=\"T_4a8bb\">\n",
              "  <caption>Model Performance Metrics</caption>\n",
              "  <thead>\n",
              "    <tr>\n",
              "      <th class=\"blank level0\" >&nbsp;</th>\n",
              "      <th id=\"T_4a8bb_level0_col0\" class=\"col_heading level0 col0\" >Min</th>\n",
              "      <th id=\"T_4a8bb_level0_col1\" class=\"col_heading level0 col1\" >Average</th>\n",
              "      <th id=\"T_4a8bb_level0_col2\" class=\"col_heading level0 col2\" >Max</th>\n",
              "    </tr>\n",
              "  </thead>\n",
              "  <tbody>\n",
              "    <tr>\n",
              "      <th id=\"T_4a8bb_level0_row0\" class=\"row_heading level0 row0\" >Accuracy</th>\n",
              "      <td id=\"T_4a8bb_row0_col0\" class=\"data row0 col0\" >0.907</td>\n",
              "      <td id=\"T_4a8bb_row0_col1\" class=\"data row0 col1\" >0.914</td>\n",
              "      <td id=\"T_4a8bb_row0_col2\" class=\"data row0 col2\" >0.926</td>\n",
              "    </tr>\n",
              "    <tr>\n",
              "      <th id=\"T_4a8bb_level0_row1\" class=\"row_heading level0 row1\" >Precision</th>\n",
              "      <td id=\"T_4a8bb_row1_col0\" class=\"data row1 col0\" >0.843</td>\n",
              "      <td id=\"T_4a8bb_row1_col1\" class=\"data row1 col1\" >0.888</td>\n",
              "      <td id=\"T_4a8bb_row1_col2\" class=\"data row1 col2\" >0.932</td>\n",
              "    </tr>\n",
              "  </tbody>\n",
              "</table>\n"
            ],
            "text/plain": [
              "<pandas.io.formats.style.Styler at 0x1b9abd51df0>"
            ]
          },
          "metadata": {},
          "output_type": "display_data"
        }
      ],
      "source": [
        "view_results(neural_network_accuracies, neural_network_precisions)"
      ]
    },
    {
      "cell_type": "code",
      "execution_count": 12,
      "metadata": {},
      "outputs": [
        {
          "data": {
            "text/html": [
              "<style type=\"text/css\">\n",
              "#T_60b25 caption {\n",
              "  font-size: 16pt;\n",
              "  text-align: center;\n",
              "  color: #4F81BD;\n",
              "  font-weight: bold;\n",
              "}\n",
              "#T_60b25 th {\n",
              "  font-size: 12pt;\n",
              "  background-color: #F2F2F2;\n",
              "  text-align: center;\n",
              "}\n",
              "#T_60b25 td {\n",
              "  font-size: 12pt;\n",
              "  text-align: center;\n",
              "}\n",
              "#T_60b25_row0_col0, #T_60b25_row1_col1 {\n",
              "  background-color: #08306b;\n",
              "  color: #f1f1f1;\n",
              "}\n",
              "#T_60b25_row0_col1, #T_60b25_row1_col0 {\n",
              "  background-color: #f7fbff;\n",
              "  color: #000000;\n",
              "}\n",
              "</style>\n",
              "<table id=\"T_60b25\">\n",
              "  <caption>Confusion Matrix</caption>\n",
              "  <thead>\n",
              "    <tr>\n",
              "      <th class=\"blank level0\" >&nbsp;</th>\n",
              "      <th id=\"T_60b25_level0_col0\" class=\"col_heading level0 col0\" >Predicted 0</th>\n",
              "      <th id=\"T_60b25_level0_col1\" class=\"col_heading level0 col1\" >Predicted 1</th>\n",
              "    </tr>\n",
              "  </thead>\n",
              "  <tbody>\n",
              "    <tr>\n",
              "      <th id=\"T_60b25_level0_row0\" class=\"row_heading level0 row0\" >Expected 0</th>\n",
              "      <td id=\"T_60b25_row0_col0\" class=\"data row0 col0\" >8514</td>\n",
              "      <td id=\"T_60b25_row0_col1\" class=\"data row0 col1\" >77</td>\n",
              "    </tr>\n",
              "    <tr>\n",
              "      <th id=\"T_60b25_level0_row1\" class=\"row_heading level0 row1\" >Expected 1</th>\n",
              "      <td id=\"T_60b25_row1_col0\" class=\"data row1 col0\" >761</td>\n",
              "      <td id=\"T_60b25_row1_col1\" class=\"data row1 col1\" >648</td>\n",
              "    </tr>\n",
              "  </tbody>\n",
              "</table>\n"
            ],
            "text/plain": [
              "<pandas.io.formats.style.Styler at 0x1b9abd1f490>"
            ]
          },
          "metadata": {},
          "output_type": "display_data"
        }
      ],
      "source": [
        "view_confusion_matrix(neural_network_conf_matrix)"
      ]
    },
    {
      "cell_type": "markdown",
      "metadata": {
        "id": "1cPRdgtqeYHX"
      },
      "source": [
        "---------------------------------------------------------------------------------------------------------------------\n"
      ]
    },
    {
      "cell_type": "markdown",
      "metadata": {
        "id": "AtWWN69-eCZW"
      },
      "source": [
        "Part 2: Run PCA and discover how many dimensions you can reduce the problem to before you start seeing significant decreases in accuracy."
      ]
    },
    {
      "cell_type": "markdown",
      "metadata": {
        "id": "6BBiYKWqeiMb"
      },
      "source": [
        "Run PCA:"
      ]
    },
    {
      "cell_type": "code",
      "execution_count": 13,
      "metadata": {
        "id": "PpbaWLYQehrX"
      },
      "outputs": [
        {
          "data": {
            "text/plain": [
              "{1: 0.7664000000000001,\n",
              " 2: 0.8907999999999999,\n",
              " 3: 0.8994,\n",
              " 4: 0.9051,\n",
              " 5: 0.9095000000000001,\n",
              " 6: 0.9099,\n",
              " 7: 0.9097,\n",
              " 8: 0.9103,\n",
              " 9: 0.9103999999999999,\n",
              " 10: 0.9096,\n",
              " 11: 0.9102,\n",
              " 12: 0.9101000000000001}"
            ]
          },
          "execution_count": 13,
          "metadata": {},
          "output_type": "execute_result"
        }
      ],
      "source": [
        "from sklearn.decomposition import PCA\n",
        "\n",
        "# Initialize variables to store results\n",
        "dim_accuracies = {}\n",
        "rf_model_pca = RandomForestClassifier(random_state=0)\n",
        "\n",
        "\n",
        "# Loop through various numbers of dimensions\n",
        "for n_components in range(1, X.shape[1] + 1):\n",
        "    # Apply PCA with n components\n",
        "    pca = PCA(n_components=n_components)\n",
        "    X_pca = pca.fit_transform(X)\n",
        "\n",
        "    # Evaluate model accuracy with cross-validation on reduced data\n",
        "    accuracy = cross_val_score(rf_model_pca, X_pca, y, cv=kf, scoring='accuracy').mean()\n",
        "    \n",
        "    # Store accuracy for the current number of components\n",
        "    dim_accuracies[n_components] = accuracy\n",
        "\n",
        "# Display results\n",
        "dim_accuracies"
      ]
    },
    {
      "cell_type": "code",
      "execution_count": 14,
      "metadata": {
        "id": "9buqP097e8sF"
      },
      "outputs": [
        {
          "data": {
            "text/plain": [
              "{1: 0.8386999999999999,\n",
              " 2: 0.8906000000000001,\n",
              " 3: 0.8946000000000002,\n",
              " 4: 0.9046000000000001,\n",
              " 5: 0.9108000000000003,\n",
              " 6: 0.9108000000000003,\n",
              " 7: 0.9108000000000003,\n",
              " 8: 0.9108000000000003,\n",
              " 9: 0.9108000000000003,\n",
              " 10: 0.9108000000000003,\n",
              " 11: 0.9108000000000003,\n",
              " 12: 0.9108000000000003}"
            ]
          },
          "execution_count": 14,
          "metadata": {},
          "output_type": "execute_result"
        }
      ],
      "source": [
        "# Initialize variables to store results\n",
        "dim_accuracies = {}\n",
        "knn_model_pca = KNeighborsClassifier()\n",
        "\n",
        "\n",
        "# Loop through various numbers of dimensions\n",
        "for n_components in range(1, X.shape[1] + 1):\n",
        "    # Apply PCA with n components\n",
        "    pca = PCA(n_components=n_components)\n",
        "    X_pca = pca.fit_transform(X)\n",
        "\n",
        "    # Evaluate model accuracy with cross-validation on reduced data\n",
        "    accuracy = cross_val_score(knn_model_pca, X_pca, y, cv=kf, scoring='accuracy').mean()\n",
        "    \n",
        "    # Store accuracy for the current number of components\n",
        "    dim_accuracies[n_components] = accuracy\n",
        "\n",
        "# Display results\n",
        "dim_accuracies"
      ]
    },
    {
      "cell_type": "code",
      "execution_count": 15,
      "metadata": {},
      "outputs": [
        {
          "name": "stderr",
          "output_type": "stream",
          "text": [
            "c:\\Users\\golde\\AppData\\Local\\Programs\\Python\\Python38\\lib\\site-packages\\sklearn\\neural_network\\_multilayer_perceptron.py:691: ConvergenceWarning: Stochastic Optimizer: Maximum iterations (200) reached and the optimization hasn't converged yet.\n",
            "  warnings.warn(\n",
            "c:\\Users\\golde\\AppData\\Local\\Programs\\Python\\Python38\\lib\\site-packages\\sklearn\\neural_network\\_multilayer_perceptron.py:691: ConvergenceWarning: Stochastic Optimizer: Maximum iterations (200) reached and the optimization hasn't converged yet.\n",
            "  warnings.warn(\n",
            "c:\\Users\\golde\\AppData\\Local\\Programs\\Python\\Python38\\lib\\site-packages\\sklearn\\neural_network\\_multilayer_perceptron.py:691: ConvergenceWarning: Stochastic Optimizer: Maximum iterations (200) reached and the optimization hasn't converged yet.\n",
            "  warnings.warn(\n",
            "c:\\Users\\golde\\AppData\\Local\\Programs\\Python\\Python38\\lib\\site-packages\\sklearn\\neural_network\\_multilayer_perceptron.py:691: ConvergenceWarning: Stochastic Optimizer: Maximum iterations (200) reached and the optimization hasn't converged yet.\n",
            "  warnings.warn(\n",
            "c:\\Users\\golde\\AppData\\Local\\Programs\\Python\\Python38\\lib\\site-packages\\sklearn\\neural_network\\_multilayer_perceptron.py:691: ConvergenceWarning: Stochastic Optimizer: Maximum iterations (200) reached and the optimization hasn't converged yet.\n",
            "  warnings.warn(\n",
            "c:\\Users\\golde\\AppData\\Local\\Programs\\Python\\Python38\\lib\\site-packages\\sklearn\\neural_network\\_multilayer_perceptron.py:691: ConvergenceWarning: Stochastic Optimizer: Maximum iterations (200) reached and the optimization hasn't converged yet.\n",
            "  warnings.warn(\n",
            "c:\\Users\\golde\\AppData\\Local\\Programs\\Python\\Python38\\lib\\site-packages\\sklearn\\neural_network\\_multilayer_perceptron.py:691: ConvergenceWarning: Stochastic Optimizer: Maximum iterations (200) reached and the optimization hasn't converged yet.\n",
            "  warnings.warn(\n",
            "c:\\Users\\golde\\AppData\\Local\\Programs\\Python\\Python38\\lib\\site-packages\\sklearn\\neural_network\\_multilayer_perceptron.py:691: ConvergenceWarning: Stochastic Optimizer: Maximum iterations (200) reached and the optimization hasn't converged yet.\n",
            "  warnings.warn(\n",
            "c:\\Users\\golde\\AppData\\Local\\Programs\\Python\\Python38\\lib\\site-packages\\sklearn\\neural_network\\_multilayer_perceptron.py:691: ConvergenceWarning: Stochastic Optimizer: Maximum iterations (200) reached and the optimization hasn't converged yet.\n",
            "  warnings.warn(\n",
            "c:\\Users\\golde\\AppData\\Local\\Programs\\Python\\Python38\\lib\\site-packages\\sklearn\\neural_network\\_multilayer_perceptron.py:691: ConvergenceWarning: Stochastic Optimizer: Maximum iterations (200) reached and the optimization hasn't converged yet.\n",
            "  warnings.warn(\n",
            "c:\\Users\\golde\\AppData\\Local\\Programs\\Python\\Python38\\lib\\site-packages\\sklearn\\neural_network\\_multilayer_perceptron.py:691: ConvergenceWarning: Stochastic Optimizer: Maximum iterations (200) reached and the optimization hasn't converged yet.\n",
            "  warnings.warn(\n",
            "c:\\Users\\golde\\AppData\\Local\\Programs\\Python\\Python38\\lib\\site-packages\\sklearn\\neural_network\\_multilayer_perceptron.py:691: ConvergenceWarning: Stochastic Optimizer: Maximum iterations (200) reached and the optimization hasn't converged yet.\n",
            "  warnings.warn(\n",
            "c:\\Users\\golde\\AppData\\Local\\Programs\\Python\\Python38\\lib\\site-packages\\sklearn\\neural_network\\_multilayer_perceptron.py:691: ConvergenceWarning: Stochastic Optimizer: Maximum iterations (200) reached and the optimization hasn't converged yet.\n",
            "  warnings.warn(\n",
            "c:\\Users\\golde\\AppData\\Local\\Programs\\Python\\Python38\\lib\\site-packages\\sklearn\\neural_network\\_multilayer_perceptron.py:691: ConvergenceWarning: Stochastic Optimizer: Maximum iterations (200) reached and the optimization hasn't converged yet.\n",
            "  warnings.warn(\n",
            "c:\\Users\\golde\\AppData\\Local\\Programs\\Python\\Python38\\lib\\site-packages\\sklearn\\neural_network\\_multilayer_perceptron.py:691: ConvergenceWarning: Stochastic Optimizer: Maximum iterations (200) reached and the optimization hasn't converged yet.\n",
            "  warnings.warn(\n",
            "c:\\Users\\golde\\AppData\\Local\\Programs\\Python\\Python38\\lib\\site-packages\\sklearn\\neural_network\\_multilayer_perceptron.py:691: ConvergenceWarning: Stochastic Optimizer: Maximum iterations (200) reached and the optimization hasn't converged yet.\n",
            "  warnings.warn(\n",
            "c:\\Users\\golde\\AppData\\Local\\Programs\\Python\\Python38\\lib\\site-packages\\sklearn\\neural_network\\_multilayer_perceptron.py:691: ConvergenceWarning: Stochastic Optimizer: Maximum iterations (200) reached and the optimization hasn't converged yet.\n",
            "  warnings.warn(\n",
            "c:\\Users\\golde\\AppData\\Local\\Programs\\Python\\Python38\\lib\\site-packages\\sklearn\\neural_network\\_multilayer_perceptron.py:691: ConvergenceWarning: Stochastic Optimizer: Maximum iterations (200) reached and the optimization hasn't converged yet.\n",
            "  warnings.warn(\n",
            "c:\\Users\\golde\\AppData\\Local\\Programs\\Python\\Python38\\lib\\site-packages\\sklearn\\neural_network\\_multilayer_perceptron.py:691: ConvergenceWarning: Stochastic Optimizer: Maximum iterations (200) reached and the optimization hasn't converged yet.\n",
            "  warnings.warn(\n",
            "c:\\Users\\golde\\AppData\\Local\\Programs\\Python\\Python38\\lib\\site-packages\\sklearn\\neural_network\\_multilayer_perceptron.py:691: ConvergenceWarning: Stochastic Optimizer: Maximum iterations (200) reached and the optimization hasn't converged yet.\n",
            "  warnings.warn(\n",
            "c:\\Users\\golde\\AppData\\Local\\Programs\\Python\\Python38\\lib\\site-packages\\sklearn\\neural_network\\_multilayer_perceptron.py:691: ConvergenceWarning: Stochastic Optimizer: Maximum iterations (200) reached and the optimization hasn't converged yet.\n",
            "  warnings.warn(\n",
            "c:\\Users\\golde\\AppData\\Local\\Programs\\Python\\Python38\\lib\\site-packages\\sklearn\\neural_network\\_multilayer_perceptron.py:691: ConvergenceWarning: Stochastic Optimizer: Maximum iterations (200) reached and the optimization hasn't converged yet.\n",
            "  warnings.warn(\n",
            "c:\\Users\\golde\\AppData\\Local\\Programs\\Python\\Python38\\lib\\site-packages\\sklearn\\neural_network\\_multilayer_perceptron.py:691: ConvergenceWarning: Stochastic Optimizer: Maximum iterations (200) reached and the optimization hasn't converged yet.\n",
            "  warnings.warn(\n",
            "c:\\Users\\golde\\AppData\\Local\\Programs\\Python\\Python38\\lib\\site-packages\\sklearn\\neural_network\\_multilayer_perceptron.py:691: ConvergenceWarning: Stochastic Optimizer: Maximum iterations (200) reached and the optimization hasn't converged yet.\n",
            "  warnings.warn(\n",
            "c:\\Users\\golde\\AppData\\Local\\Programs\\Python\\Python38\\lib\\site-packages\\sklearn\\neural_network\\_multilayer_perceptron.py:691: ConvergenceWarning: Stochastic Optimizer: Maximum iterations (200) reached and the optimization hasn't converged yet.\n",
            "  warnings.warn(\n",
            "c:\\Users\\golde\\AppData\\Local\\Programs\\Python\\Python38\\lib\\site-packages\\sklearn\\neural_network\\_multilayer_perceptron.py:691: ConvergenceWarning: Stochastic Optimizer: Maximum iterations (200) reached and the optimization hasn't converged yet.\n",
            "  warnings.warn(\n",
            "c:\\Users\\golde\\AppData\\Local\\Programs\\Python\\Python38\\lib\\site-packages\\sklearn\\neural_network\\_multilayer_perceptron.py:691: ConvergenceWarning: Stochastic Optimizer: Maximum iterations (200) reached and the optimization hasn't converged yet.\n",
            "  warnings.warn(\n",
            "c:\\Users\\golde\\AppData\\Local\\Programs\\Python\\Python38\\lib\\site-packages\\sklearn\\neural_network\\_multilayer_perceptron.py:691: ConvergenceWarning: Stochastic Optimizer: Maximum iterations (200) reached and the optimization hasn't converged yet.\n",
            "  warnings.warn(\n",
            "c:\\Users\\golde\\AppData\\Local\\Programs\\Python\\Python38\\lib\\site-packages\\sklearn\\neural_network\\_multilayer_perceptron.py:691: ConvergenceWarning: Stochastic Optimizer: Maximum iterations (200) reached and the optimization hasn't converged yet.\n",
            "  warnings.warn(\n",
            "c:\\Users\\golde\\AppData\\Local\\Programs\\Python\\Python38\\lib\\site-packages\\sklearn\\neural_network\\_multilayer_perceptron.py:691: ConvergenceWarning: Stochastic Optimizer: Maximum iterations (200) reached and the optimization hasn't converged yet.\n",
            "  warnings.warn(\n",
            "c:\\Users\\golde\\AppData\\Local\\Programs\\Python\\Python38\\lib\\site-packages\\sklearn\\neural_network\\_multilayer_perceptron.py:691: ConvergenceWarning: Stochastic Optimizer: Maximum iterations (200) reached and the optimization hasn't converged yet.\n",
            "  warnings.warn(\n",
            "c:\\Users\\golde\\AppData\\Local\\Programs\\Python\\Python38\\lib\\site-packages\\sklearn\\neural_network\\_multilayer_perceptron.py:691: ConvergenceWarning: Stochastic Optimizer: Maximum iterations (200) reached and the optimization hasn't converged yet.\n",
            "  warnings.warn(\n",
            "c:\\Users\\golde\\AppData\\Local\\Programs\\Python\\Python38\\lib\\site-packages\\sklearn\\neural_network\\_multilayer_perceptron.py:691: ConvergenceWarning: Stochastic Optimizer: Maximum iterations (200) reached and the optimization hasn't converged yet.\n",
            "  warnings.warn(\n",
            "c:\\Users\\golde\\AppData\\Local\\Programs\\Python\\Python38\\lib\\site-packages\\sklearn\\neural_network\\_multilayer_perceptron.py:691: ConvergenceWarning: Stochastic Optimizer: Maximum iterations (200) reached and the optimization hasn't converged yet.\n",
            "  warnings.warn(\n",
            "c:\\Users\\golde\\AppData\\Local\\Programs\\Python\\Python38\\lib\\site-packages\\sklearn\\neural_network\\_multilayer_perceptron.py:691: ConvergenceWarning: Stochastic Optimizer: Maximum iterations (200) reached and the optimization hasn't converged yet.\n",
            "  warnings.warn(\n",
            "c:\\Users\\golde\\AppData\\Local\\Programs\\Python\\Python38\\lib\\site-packages\\sklearn\\neural_network\\_multilayer_perceptron.py:691: ConvergenceWarning: Stochastic Optimizer: Maximum iterations (200) reached and the optimization hasn't converged yet.\n",
            "  warnings.warn(\n",
            "c:\\Users\\golde\\AppData\\Local\\Programs\\Python\\Python38\\lib\\site-packages\\sklearn\\neural_network\\_multilayer_perceptron.py:691: ConvergenceWarning: Stochastic Optimizer: Maximum iterations (200) reached and the optimization hasn't converged yet.\n",
            "  warnings.warn(\n"
          ]
        },
        {
          "data": {
            "text/plain": [
              "{1: 0.8591,\n",
              " 2: 0.8991,\n",
              " 3: 0.9018,\n",
              " 4: 0.9082000000000001,\n",
              " 5: 0.9144,\n",
              " 6: 0.9145000000000001,\n",
              " 7: 0.9150000000000003,\n",
              " 8: 0.9145999999999999,\n",
              " 9: 0.9141000000000001,\n",
              " 10: 0.9137000000000001,\n",
              " 11: 0.9144,\n",
              " 12: 0.9138}"
            ]
          },
          "execution_count": 15,
          "metadata": {},
          "output_type": "execute_result"
        }
      ],
      "source": [
        "# Initialize variables to store results\n",
        "dim_accuracies = {}\n",
        "nn_model_pca = MLPClassifier(hidden_layer_sizes=(50,), max_iter=200, random_state=0)\n",
        "\n",
        "\n",
        "# Loop through various numbers of dimensions\n",
        "for n_components in range(1, X.shape[1] + 1):\n",
        "    # Apply PCA with n components\n",
        "    pca = PCA(n_components=n_components)\n",
        "    X_pca = pca.fit_transform(X)\n",
        "\n",
        "    # Evaluate model accuracy with cross-validation on reduced data\n",
        "    accuracy = cross_val_score(nn_model_pca, X_pca, y, cv=kf, scoring='accuracy').mean()\n",
        "    \n",
        "    # Store accuracy for the current number of components\n",
        "    dim_accuracies[n_components] = accuracy\n",
        "\n",
        "# Display results\n",
        "dim_accuracies"
      ]
    },
    {
      "cell_type": "markdown",
      "metadata": {},
      "source": [
        "How many dimensions can you reduce? (Explain your answer)"
      ]
    },
    {
      "cell_type": "markdown",
      "metadata": {},
      "source": [
        "After running PCA on the Ten-Fold Cross Validation over the RandomForest, KNN, and MLP classifiers, we see a 1-2% drop in accuracy when reducing 1-11 dimensions. When reducing the 12th dimension (i.e. we only have 1 dimension/feature X when predicting our target y), we see a 5-10% drop in accuracy. This implies that we can see consistently highly accurate classifications with either all 12 dimensions or even just 2 dimensions, but with 1 dimension of the feature we may have reduced the dimensions by too much via PCA. Therefore, we claim that we can reduce 11 dimensions at most through PCA analysis when making predictions for this dataset."
      ]
    },
    {
      "cell_type": "markdown",
      "metadata": {},
      "source": []
    }
  ],
  "metadata": {
    "colab": {
      "provenance": []
    },
    "kernelspec": {
      "display_name": "Python 3",
      "language": "python",
      "name": "python3"
    },
    "language_info": {
      "codemirror_mode": {
        "name": "ipython",
        "version": 3
      },
      "file_extension": ".py",
      "mimetype": "text/x-python",
      "name": "python",
      "nbconvert_exporter": "python",
      "pygments_lexer": "ipython3",
      "version": "3.8.10"
    }
  },
  "nbformat": 4,
  "nbformat_minor": 0
}

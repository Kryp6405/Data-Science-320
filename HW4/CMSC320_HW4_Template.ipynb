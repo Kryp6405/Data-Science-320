{
 "cells": [
  {
   "cell_type": "markdown",
   "metadata": {
    "id": "97Cgwu6BeOyk"
   },
   "source": [
    "Download [this dataset](https://drive.google.com/file/d/1Irwl_iBBarUuZNiSesy7KK6v8ImCRPfx/view?usp=sharing) and do the following:"
   ]
  },
  {
   "cell_type": "markdown",
   "metadata": {
    "id": "GZOZC2-Iedjx"
   },
   "source": [
    "---------------------------------------------------------------------------------------------------------------------\n"
   ]
  },
  {
   "cell_type": "markdown",
   "metadata": {
    "id": "oUeqohtRdA8e"
   },
   "source": [
    "Part 1: Classify the 'Results' column using three models of your choice.\n",
    "At least one must get 90% accuracy with at least 50% precision with ten fold cross validation. Print your confusion matrix."
   ]
  },
  {
   "cell_type": "markdown",
   "metadata": {
    "id": "omQmIddLdpL1"
   },
   "source": [
    "Read in the dataset:"
   ]
  },
  {
   "cell_type": "code",
   "execution_count": 2,
   "metadata": {
    "id": "g9-WjWY4dNQf"
   },
   "outputs": [
    {
     "data": {
      "text/html": [
       "<div>\n",
       "<style scoped>\n",
       "    .dataframe tbody tr th:only-of-type {\n",
       "        vertical-align: middle;\n",
       "    }\n",
       "\n",
       "    .dataframe tbody tr th {\n",
       "        vertical-align: top;\n",
       "    }\n",
       "\n",
       "    .dataframe thead th {\n",
       "        text-align: right;\n",
       "    }\n",
       "</style>\n",
       "<table border=\"1\" class=\"dataframe\">\n",
       "  <thead>\n",
       "    <tr style=\"text-align: right;\">\n",
       "      <th></th>\n",
       "      <th>0</th>\n",
       "      <th>1</th>\n",
       "      <th>2</th>\n",
       "      <th>3</th>\n",
       "      <th>4</th>\n",
       "      <th>5</th>\n",
       "      <th>6</th>\n",
       "      <th>7</th>\n",
       "      <th>8</th>\n",
       "      <th>9</th>\n",
       "      <th>10</th>\n",
       "      <th>11</th>\n",
       "      <th>Results</th>\n",
       "    </tr>\n",
       "  </thead>\n",
       "  <tbody>\n",
       "    <tr>\n",
       "      <th>0</th>\n",
       "      <td>-2.952927</td>\n",
       "      <td>1.184525</td>\n",
       "      <td>1.226833</td>\n",
       "      <td>-2.931165</td>\n",
       "      <td>-2.952927</td>\n",
       "      <td>-2.175042</td>\n",
       "      <td>-2.931165</td>\n",
       "      <td>-0.969470</td>\n",
       "      <td>-2.175042</td>\n",
       "      <td>-2.703467</td>\n",
       "      <td>-1.730694</td>\n",
       "      <td>0.674750</td>\n",
       "      <td>0</td>\n",
       "    </tr>\n",
       "    <tr>\n",
       "      <th>1</th>\n",
       "      <td>-2.391714</td>\n",
       "      <td>0.327538</td>\n",
       "      <td>0.876101</td>\n",
       "      <td>-2.734864</td>\n",
       "      <td>-2.391714</td>\n",
       "      <td>-1.747243</td>\n",
       "      <td>-2.734864</td>\n",
       "      <td>-1.153921</td>\n",
       "      <td>-1.747243</td>\n",
       "      <td>-1.688038</td>\n",
       "      <td>-1.551229</td>\n",
       "      <td>1.293129</td>\n",
       "      <td>0</td>\n",
       "    </tr>\n",
       "    <tr>\n",
       "      <th>2</th>\n",
       "      <td>-3.405944</td>\n",
       "      <td>0.540775</td>\n",
       "      <td>1.229768</td>\n",
       "      <td>-2.216754</td>\n",
       "      <td>-3.405944</td>\n",
       "      <td>-2.807417</td>\n",
       "      <td>-2.216754</td>\n",
       "      <td>-2.616736</td>\n",
       "      <td>-2.807417</td>\n",
       "      <td>-0.803270</td>\n",
       "      <td>0.872962</td>\n",
       "      <td>-0.728645</td>\n",
       "      <td>0</td>\n",
       "    </tr>\n",
       "    <tr>\n",
       "      <th>3</th>\n",
       "      <td>-0.699303</td>\n",
       "      <td>1.508910</td>\n",
       "      <td>-0.457514</td>\n",
       "      <td>0.043826</td>\n",
       "      <td>-0.699303</td>\n",
       "      <td>-0.892224</td>\n",
       "      <td>0.043826</td>\n",
       "      <td>-1.525033</td>\n",
       "      <td>-0.892224</td>\n",
       "      <td>0.406936</td>\n",
       "      <td>2.409556</td>\n",
       "      <td>-2.804476</td>\n",
       "      <td>0</td>\n",
       "    </tr>\n",
       "    <tr>\n",
       "      <th>4</th>\n",
       "      <td>-0.336467</td>\n",
       "      <td>1.690297</td>\n",
       "      <td>-1.058940</td>\n",
       "      <td>-0.340338</td>\n",
       "      <td>-0.336467</td>\n",
       "      <td>-0.036228</td>\n",
       "      <td>-0.340338</td>\n",
       "      <td>-1.671984</td>\n",
       "      <td>-0.036228</td>\n",
       "      <td>0.056554</td>\n",
       "      <td>1.708848</td>\n",
       "      <td>-1.761093</td>\n",
       "      <td>0</td>\n",
       "    </tr>\n",
       "  </tbody>\n",
       "</table>\n",
       "</div>"
      ],
      "text/plain": [
       "          0         1         2         3         4         5         6  \\\n",
       "0 -2.952927  1.184525  1.226833 -2.931165 -2.952927 -2.175042 -2.931165   \n",
       "1 -2.391714  0.327538  0.876101 -2.734864 -2.391714 -1.747243 -2.734864   \n",
       "2 -3.405944  0.540775  1.229768 -2.216754 -3.405944 -2.807417 -2.216754   \n",
       "3 -0.699303  1.508910 -0.457514  0.043826 -0.699303 -0.892224  0.043826   \n",
       "4 -0.336467  1.690297 -1.058940 -0.340338 -0.336467 -0.036228 -0.340338   \n",
       "\n",
       "          7         8         9        10        11  Results  \n",
       "0 -0.969470 -2.175042 -2.703467 -1.730694  0.674750        0  \n",
       "1 -1.153921 -1.747243 -1.688038 -1.551229  1.293129        0  \n",
       "2 -2.616736 -2.807417 -0.803270  0.872962 -0.728645        0  \n",
       "3 -1.525033 -0.892224  0.406936  2.409556 -2.804476        0  \n",
       "4 -1.671984 -0.036228  0.056554  1.708848 -1.761093        0  "
      ]
     },
     "execution_count": 2,
     "metadata": {},
     "output_type": "execute_result"
    }
   ],
   "source": [
    "import pandas as pd\n",
    "\n",
    "df = pd.read_csv('homework4.csv')\n",
    "data = df.drop(columns=['Unnamed: 0'])\n",
    "\n",
    "data.head()"
   ]
  },
  {
   "cell_type": "code",
   "execution_count": 2,
   "metadata": {},
   "outputs": [],
   "source": [
    "# Separate features (X) from the target (y)\n",
    "X = data.drop(columns=['Results'])\n",
    "y = data['Results']"
   ]
  },
  {
   "cell_type": "markdown",
   "metadata": {
    "id": "rRPlkJutduEb"
   },
   "source": [
    "Classify 'Results' column with Model #1:"
   ]
  },
  {
   "cell_type": "code",
   "execution_count": 4,
   "metadata": {
    "id": "rbbMr40Qd34P"
   },
   "outputs": [],
   "source": [
    "from sklearn.model_selection import cross_val_score, StratifiedKFold\n",
    "from sklearn.metrics import confusion_matrix\n",
    "from sklearn.ensemble import RandomForestClassifier\n",
    "import joblib, os\n",
    "\n",
    "if not os.path.isfile(\"random_forest_model.pkl\"):\n",
    "    # Initialize Model #1: Random Forest\n",
    "    random_forest_model = RandomForestClassifier(random_state=0)\n",
    "\n",
    "    # Perform 10-fold cross-validation and calculate accuracy and precision\n",
    "    kf = StratifiedKFold(n_splits=10, shuffle=True, random_state=0)\n",
    "    random_forest_accuracies = cross_val_score(random_forest_model, X, y, cv=kf, scoring='accuracy')\n",
    "    random_forest_precisions = cross_val_score(random_forest_model, X, y, cv=kf, scoring='precision')\n",
    "    \n",
    "    data = {\n",
    "        'Fold 1': [random_forest_accuracies[0], random_forest_precisions[0]],\n",
    "        'Fold 2': [random_forest_accuracies[1], random_forest_precisions[1]],\n",
    "        'Fold 3': [random_forest_accuracies[2], random_forest_precisions[2]],\n",
    "        'Fold 4': [random_forest_accuracies[3], random_forest_precisions[3]],\n",
    "        'Fold 5': [random_forest_accuracies[4], random_forest_precisions[4]],\n",
    "        'Fold 6': [random_forest_accuracies[5], random_forest_precisions[5]],\n",
    "        'Fold 7': [random_forest_accuracies[6], random_forest_precisions[6]],\n",
    "        'Fold 8': [random_forest_accuracies[7], random_forest_precisions[7]],\n",
    "        'Fold 9': [random_forest_accuracies[8], random_forest_precisions[8]],\n",
    "        'Fold 10': [random_forest_accuracies[9], random_forest_precisions[9]],\n",
    "        'Min': [random_forest_accuracies.min(), random_forest_precisions.min()],\n",
    "        'Avg': [random_forest_accuracies.mean(), random_forest_precisions.mean()],\n",
    "        'Max': [random_forest_accuracies.max(), random_forest_precisions.max()]\n",
    "    }\n",
    "    random_forest_results = pd.DataFrame(data, index=['Accuracy', 'Precision'])\n",
    "    random_forest_results.to_csv('random_forest_results.csv', index=False)\n",
    "\n",
    "    # Train and evaluate using the entire dataset to obtain confusion matrix\n",
    "    random_forest_model.fit(X, y)\n",
    "    joblib.dump(random_forest_model, 'random_forest_model.pkl')\n",
    "    random_forest_y_pred = random_forest_model.predict(X)\n",
    "    \n",
    "    random_forest_conf_matrix = confusion_matrix(y, random_forest_y_pred)\n",
    "    random_forest_cf = pd.DataFrame(\n",
    "        random_forest_conf_matrix,\n",
    "        index=['Actual Negative', 'Actual Positive'],\n",
    "        columns=['Predicted Negative', 'Predicted Positive']\n",
    "    )\n",
    "    random_forest_cf.to_csv('random_forest_cf.csv', index=False)"
   ]
  },
  {
   "cell_type": "code",
   "execution_count": null,
   "metadata": {},
   "outputs": [
    {
     "data": {
      "text/html": [
       "<style type=\"text/css\">\n",
       "</style>\n",
       "<table id=\"T_ee570\">\n",
       "  <thead>\n",
       "    <tr>\n",
       "      <th class=\"blank level0\" >&nbsp;</th>\n",
       "      <th id=\"T_ee570_level0_col0\" class=\"col_heading level0 col0\" >Min</th>\n",
       "      <th id=\"T_ee570_level0_col1\" class=\"col_heading level0 col1\" >Avg</th>\n",
       "      <th id=\"T_ee570_level0_col2\" class=\"col_heading level0 col2\" >Max</th>\n",
       "    </tr>\n",
       "  </thead>\n",
       "  <tbody>\n",
       "    <tr>\n",
       "      <th id=\"T_ee570_level0_row0\" class=\"row_heading level0 row0\" >Accuracy</th>\n",
       "      <td id=\"T_ee570_row0_col0\" class=\"data row0 col0\" >0.905</td>\n",
       "      <td id=\"T_ee570_row0_col1\" class=\"data row0 col1\" >0.913</td>\n",
       "      <td id=\"T_ee570_row0_col2\" class=\"data row0 col2\" >0.922</td>\n",
       "    </tr>\n",
       "    <tr>\n",
       "      <th id=\"T_ee570_level0_row1\" class=\"row_heading level0 row1\" >Precision</th>\n",
       "      <td id=\"T_ee570_row1_col0\" class=\"data row1 col0\" >0.808</td>\n",
       "      <td id=\"T_ee570_row1_col1\" class=\"data row1 col1\" >0.873</td>\n",
       "      <td id=\"T_ee570_row1_col2\" class=\"data row1 col2\" >0.921</td>\n",
       "    </tr>\n",
       "  </tbody>\n",
       "</table>\n"
      ],
      "text/plain": [
       "<pandas.io.formats.style.Styler at 0x1b4a4821070>"
      ]
     },
     "execution_count": 5,
     "metadata": {},
     "output_type": "execute_result"
    }
   ],
   "source": [
    "res = pd.DataFrame()\n",
    "if os.path.isfile(\"random_forest_results.csv\"):\n",
    "    res = pd.read_csv(\"random_forest_results.csv\")\n",
    "    res.index = [\"Accuracy\", \"Precision\"]\n",
    "    res = res[['Min', 'Avg', 'Max']].style.format(precision=3)\n",
    "res"
   ]
  },
  {
   "cell_type": "code",
   "execution_count": 6,
   "metadata": {},
   "outputs": [
    {
     "data": {
      "text/html": [
       "<div>\n",
       "<style scoped>\n",
       "    .dataframe tbody tr th:only-of-type {\n",
       "        vertical-align: middle;\n",
       "    }\n",
       "\n",
       "    .dataframe tbody tr th {\n",
       "        vertical-align: top;\n",
       "    }\n",
       "\n",
       "    .dataframe thead th {\n",
       "        text-align: right;\n",
       "    }\n",
       "</style>\n",
       "<table border=\"1\" class=\"dataframe\">\n",
       "  <thead>\n",
       "    <tr style=\"text-align: right;\">\n",
       "      <th></th>\n",
       "      <th>Predicted Negative</th>\n",
       "      <th>Predicted Positive</th>\n",
       "    </tr>\n",
       "  </thead>\n",
       "  <tbody>\n",
       "    <tr>\n",
       "      <th>Accuracy</th>\n",
       "      <td>8591</td>\n",
       "      <td>0</td>\n",
       "    </tr>\n",
       "    <tr>\n",
       "      <th>Precision</th>\n",
       "      <td>0</td>\n",
       "      <td>1409</td>\n",
       "    </tr>\n",
       "  </tbody>\n",
       "</table>\n",
       "</div>"
      ],
      "text/plain": [
       "           Predicted Negative  Predicted Positive\n",
       "Accuracy                 8591                   0\n",
       "Precision                   0                1409"
      ]
     },
     "execution_count": 6,
     "metadata": {},
     "output_type": "execute_result"
    }
   ],
   "source": [
    "cf = pd.DataFrame()\n",
    "if os.path.isfile(\"random_forest_cf.csv\"):\n",
    "    cf = pd.read_csv(\"random_forest_cf.csv\")\n",
    "    cf.index = [\"Accuracy\", \"Precision\"]\n",
    "\n",
    "cf"
   ]
  },
  {
   "cell_type": "markdown",
   "metadata": {
    "id": "3_zvgnYVd4PP"
   },
   "source": [
    "Classify 'Results' column with Model #2:"
   ]
  },
  {
   "cell_type": "code",
   "execution_count": 29,
   "metadata": {
    "id": "o3kY7jZdd5MN"
   },
   "outputs": [],
   "source": [
    "from sklearn.model_selection import cross_val_score, StratifiedKFold\n",
    "from sklearn.metrics import confusion_matrix\n",
    "from sklearn.neighbors import KNeighborsClassifier\n",
    "\n",
    "if not os.path.isfile('knn_model.pkl'):\n",
    "    # Initialize Model #2: Naive Bayes\n",
    "    knn_model = KNeighborsClassifier()\n",
    "\n",
    "    # Perform 10-fold cross-validation and calculate accuracy and precision\n",
    "    kf = StratifiedKFold (n_splits=10, shuffle=True, random_state=0)\n",
    "    knn_accuracies = cross_val_score(knn_model, X, y, cv=kf, scoring='accuracy')\n",
    "    knn_precisions = cross_val_score(knn_model, X, y, cv=kf, scoring='precision')\n",
    "    \n",
    "    data = {\n",
    "        'Fold 1': [knn_accuracies[0], knn_precisions[0]],\n",
    "        'Fold 2': [knn_accuracies[1], knn_precisions[1]],\n",
    "        'Fold 3': [knn_accuracies[2], knn_precisions[2]],\n",
    "        'Fold 4': [knn_accuracies[3], knn_precisions[3]],\n",
    "        'Fold 5': [knn_accuracies[4], knn_precisions[4]],\n",
    "        'Fold 6': [knn_accuracies[5], knn_precisions[5]],\n",
    "        'Fold 7': [knn_accuracies[6], knn_precisions[6]],\n",
    "        'Fold 8': [knn_accuracies[7], knn_precisions[7]],\n",
    "        'Fold 9': [knn_accuracies[8], knn_precisions[8]],\n",
    "        'Fold 10': [knn_accuracies[9], knn_precisions[9]],\n",
    "        'Min': [knn_accuracies.min(), knn_precisions.min()],\n",
    "        'Avg': [knn_accuracies.mean(), knn_precisions.mean()],\n",
    "        'Max': [knn_accuracies.max(), knn_precisions.max()]\n",
    "    }\n",
    "    knn_results = pd.DataFrame(data, index=['Accuracy', 'Precision'])\n",
    "    knn_results.to_csv('knn_results.csv', index=False)\n",
    "\n",
    "    # Train and evaluate using the entire dataset to obtain confusion matrix\n",
    "    knn_model.fit(X, y)\n",
    "    joblib.dump(knn_model, 'knn_model.pkl')\n",
    "    knn_y_pred = knn_model.predict(X)\n",
    "\n",
    "    knn_conf_matrix = confusion_matrix(y, knn_y_pred)\n",
    "    knn_cf = pd.DataFrame(\n",
    "        knn_conf_matrix,\n",
    "        index=['Actual Negative', 'Actual Positive'],\n",
    "        columns=['Predicted Negative', 'Predicted Positive']\n",
    "    )\n",
    "    knn_cf.to_csv('knn_cf.csv', index=False)"
   ]
  },
  {
   "cell_type": "code",
   "execution_count": 7,
   "metadata": {},
   "outputs": [
    {
     "data": {
      "text/html": [
       "<style type=\"text/css\">\n",
       "</style>\n",
       "<table id=\"T_9ce76\">\n",
       "  <thead>\n",
       "    <tr>\n",
       "      <th class=\"blank level0\" >&nbsp;</th>\n",
       "      <th id=\"T_9ce76_level0_col0\" class=\"col_heading level0 col0\" >Min</th>\n",
       "      <th id=\"T_9ce76_level0_col1\" class=\"col_heading level0 col1\" >Avg</th>\n",
       "      <th id=\"T_9ce76_level0_col2\" class=\"col_heading level0 col2\" >Max</th>\n",
       "    </tr>\n",
       "  </thead>\n",
       "  <tbody>\n",
       "    <tr>\n",
       "      <th id=\"T_9ce76_level0_row0\" class=\"row_heading level0 row0\" >Accuracy</th>\n",
       "      <td id=\"T_9ce76_row0_col0\" class=\"data row0 col0\" >0.905</td>\n",
       "      <td id=\"T_9ce76_row0_col1\" class=\"data row0 col1\" >0.911</td>\n",
       "      <td id=\"T_9ce76_row0_col2\" class=\"data row0 col2\" >0.926</td>\n",
       "    </tr>\n",
       "    <tr>\n",
       "      <th id=\"T_9ce76_level0_row1\" class=\"row_heading level0 row1\" >Precision</th>\n",
       "      <td id=\"T_9ce76_row1_col0\" class=\"data row1 col0\" >0.829</td>\n",
       "      <td id=\"T_9ce76_row1_col1\" class=\"data row1 col1\" >0.863</td>\n",
       "      <td id=\"T_9ce76_row1_col2\" class=\"data row1 col2\" >0.924</td>\n",
       "    </tr>\n",
       "  </tbody>\n",
       "</table>\n"
      ],
      "text/plain": [
       "<pandas.io.formats.style.Styler at 0x1b4d5b63e20>"
      ]
     },
     "execution_count": 7,
     "metadata": {},
     "output_type": "execute_result"
    }
   ],
   "source": [
    "res = pd.DataFrame()\n",
    "if os.path.isfile(\"knn_results.csv\"):\n",
    "    res = pd.read_csv(\"knn_results.csv\")\n",
    "    res.index = [\"Accuracy\", \"Precision\"]\n",
    "    res = res[['Min', 'Avg', 'Max']].style.format(precision=3)\n",
    "res"
   ]
  },
  {
   "cell_type": "code",
   "execution_count": 8,
   "metadata": {},
   "outputs": [
    {
     "data": {
      "text/html": [
       "<div>\n",
       "<style scoped>\n",
       "    .dataframe tbody tr th:only-of-type {\n",
       "        vertical-align: middle;\n",
       "    }\n",
       "\n",
       "    .dataframe tbody tr th {\n",
       "        vertical-align: top;\n",
       "    }\n",
       "\n",
       "    .dataframe thead th {\n",
       "        text-align: right;\n",
       "    }\n",
       "</style>\n",
       "<table border=\"1\" class=\"dataframe\">\n",
       "  <thead>\n",
       "    <tr style=\"text-align: right;\">\n",
       "      <th></th>\n",
       "      <th>Predicted Negative</th>\n",
       "      <th>Predicted Positive</th>\n",
       "    </tr>\n",
       "  </thead>\n",
       "  <tbody>\n",
       "    <tr>\n",
       "      <th>Actual Negative</th>\n",
       "      <td>8524</td>\n",
       "      <td>67</td>\n",
       "    </tr>\n",
       "    <tr>\n",
       "      <th>Actual Positive</th>\n",
       "      <td>719</td>\n",
       "      <td>690</td>\n",
       "    </tr>\n",
       "  </tbody>\n",
       "</table>\n",
       "</div>"
      ],
      "text/plain": [
       "                 Predicted Negative  Predicted Positive\n",
       "Actual Negative                8524                  67\n",
       "Actual Positive                 719                 690"
      ]
     },
     "execution_count": 8,
     "metadata": {},
     "output_type": "execute_result"
    }
   ],
   "source": [
    "cf = pd.DataFrame()\n",
    "if os.path.isfile(\"knn_cf.csv\"):\n",
    "    cf = pd.read_csv(\"knn_cf.csv\")\n",
    "    cf.index = ['Actual Negative', 'Actual Positive']\n",
    "\n",
    "cf"
   ]
  },
  {
   "cell_type": "markdown",
   "metadata": {
    "id": "IQtoPAmed5zo"
   },
   "source": [
    "Classify 'Results' column with Model #3:"
   ]
  },
  {
   "cell_type": "code",
   "execution_count": 23,
   "metadata": {
    "id": "E6MJ0wrod65Q"
   },
   "outputs": [],
   "source": [
    "from sklearn.model_selection import cross_val_score, StratifiedKFold\n",
    "from sklearn.metrics import confusion_matrix\n",
    "from sklearn.neural_network import MLPClassifier\n",
    "\n",
    "if not os.path.isfile('neural_network_model.pkl'):\n",
    "    # Initialize Model #3: Neural Network\n",
    "    neural_network_model = MLPClassifier(hidden_layer_sizes=(50,), max_iter=200, random_state=0)\n",
    "\n",
    "    # Perform 10-fold cross-validation and calculate accuracy and precision\n",
    "    kf = StratifiedKFold(n_splits=10, shuffle=True, random_state=0)\n",
    "    neural_network_accuracies = cross_val_score(neural_network_model, X, y, cv=kf, scoring='accuracy')\n",
    "    neural_network_precisions = cross_val_score(neural_network_model, X, y, cv=kf, scoring='precision')\n",
    "\n",
    "    data = {\n",
    "        'Fold 1': [neural_network_accuracies[0], neural_network_precisions[0]],\n",
    "        'Fold 2': [neural_network_accuracies[1], neural_network_precisions[1]],\n",
    "        'Fold 3': [neural_network_accuracies[2], neural_network_precisions[2]],\n",
    "        'Fold 4': [neural_network_accuracies[3], neural_network_precisions[3]],\n",
    "        'Fold 5': [neural_network_accuracies[4], neural_network_precisions[4]],\n",
    "        'Fold 6': [neural_network_accuracies[5], neural_network_precisions[5]],\n",
    "        'Fold 7': [neural_network_accuracies[6], neural_network_precisions[6]],\n",
    "        'Fold 8': [neural_network_accuracies[7], neural_network_precisions[7]],\n",
    "        'Fold 9': [neural_network_accuracies[8], neural_network_precisions[8]],\n",
    "        'Fold 10': [neural_network_accuracies[9], neural_network_precisions[9]],\n",
    "        'Min': [neural_network_accuracies.min(), neural_network_precisions.min()],\n",
    "        'Avg': [neural_network_accuracies.mean(), neural_network_precisions.mean()],\n",
    "        'Max': [neural_network_accuracies.max(), neural_network_precisions.max()]\n",
    "    }\n",
    "    neural_network_results = pd.DataFrame(data, index=['Accuracy', 'Precision'])\n",
    "    neural_network_results.to_csv('neural_network_results.csv', index=False)\n",
    "\n",
    "    # Train and evaluate using the entire dataset to obtain confusion matrix\n",
    "    neural_network_model.fit(X, y)\n",
    "    joblib.dump(neural_network_model, 'neural_network_model.pkl')\n",
    "    neural_network_y_pred = neural_network_model.predict(X)\n",
    "    \n",
    "    neural_network_conf_matrix = confusion_matrix(y, neural_network_y_pred)\n",
    "    neural_network_cf = pd.DataFrame(\n",
    "        neural_network_conf_matrix,\n",
    "        index=['Actual Negative', 'Actual Positive'],\n",
    "        columns=['Predicted Negative', 'Predicted Positive']\n",
    "    )\n",
    "    neural_network_cf.to_csv('neural_network_cf.csv', index=False)"
   ]
  },
  {
   "cell_type": "code",
   "execution_count": null,
   "metadata": {},
   "outputs": [
    {
     "data": {
      "text/html": [
       "<style type=\"text/css\">\n",
       "</style>\n",
       "<table id=\"T_488ba\">\n",
       "  <thead>\n",
       "    <tr>\n",
       "      <th class=\"blank level0\" >&nbsp;</th>\n",
       "      <th id=\"T_488ba_level0_col0\" class=\"col_heading level0 col0\" >Min</th>\n",
       "      <th id=\"T_488ba_level0_col1\" class=\"col_heading level0 col1\" >Avg</th>\n",
       "      <th id=\"T_488ba_level0_col2\" class=\"col_heading level0 col2\" >Max</th>\n",
       "    </tr>\n",
       "  </thead>\n",
       "  <tbody>\n",
       "    <tr>\n",
       "      <th id=\"T_488ba_level0_row0\" class=\"row_heading level0 row0\" >Accuracy</th>\n",
       "      <td id=\"T_488ba_row0_col0\" class=\"data row0 col0\" >0.907</td>\n",
       "      <td id=\"T_488ba_row0_col1\" class=\"data row0 col1\" >0.914</td>\n",
       "      <td id=\"T_488ba_row0_col2\" class=\"data row0 col2\" >0.926</td>\n",
       "    </tr>\n",
       "    <tr>\n",
       "      <th id=\"T_488ba_level0_row1\" class=\"row_heading level0 row1\" >Precision</th>\n",
       "      <td id=\"T_488ba_row1_col0\" class=\"data row1 col0\" >0.843</td>\n",
       "      <td id=\"T_488ba_row1_col1\" class=\"data row1 col1\" >0.888</td>\n",
       "      <td id=\"T_488ba_row1_col2\" class=\"data row1 col2\" >0.932</td>\n",
       "    </tr>\n",
       "  </tbody>\n",
       "</table>\n"
      ],
      "text/plain": [
       "<pandas.io.formats.style.Styler at 0x18195288be0>"
      ]
     },
     "execution_count": 25,
     "metadata": {},
     "output_type": "execute_result"
    }
   ],
   "source": [
    "res = pd.DataFrame()\n",
    "if os.path.isfile(\"neural_network_results.csv\"):\n",
    "    res = pd.read_csv(\"neural_network_results.csv\")\n",
    "    res.index = [\"Accuracy\", \"Precision\"]\n",
    "    res[['Min', 'Avg', 'Max']].style.format(precision=3)\n",
    "\n",
    "res"
   ]
  },
  {
   "cell_type": "code",
   "execution_count": 9,
   "metadata": {},
   "outputs": [
    {
     "data": {
      "text/html": [
       "<div>\n",
       "<style scoped>\n",
       "    .dataframe tbody tr th:only-of-type {\n",
       "        vertical-align: middle;\n",
       "    }\n",
       "\n",
       "    .dataframe tbody tr th {\n",
       "        vertical-align: top;\n",
       "    }\n",
       "\n",
       "    .dataframe thead th {\n",
       "        text-align: right;\n",
       "    }\n",
       "</style>\n",
       "<table border=\"1\" class=\"dataframe\">\n",
       "  <thead>\n",
       "    <tr style=\"text-align: right;\">\n",
       "      <th></th>\n",
       "      <th>Predicted Negative</th>\n",
       "      <th>Predicted Positive</th>\n",
       "    </tr>\n",
       "  </thead>\n",
       "  <tbody>\n",
       "    <tr>\n",
       "      <th>Actual Negative</th>\n",
       "      <td>8514</td>\n",
       "      <td>77</td>\n",
       "    </tr>\n",
       "    <tr>\n",
       "      <th>Actual Positive</th>\n",
       "      <td>761</td>\n",
       "      <td>648</td>\n",
       "    </tr>\n",
       "  </tbody>\n",
       "</table>\n",
       "</div>"
      ],
      "text/plain": [
       "                 Predicted Negative  Predicted Positive\n",
       "Actual Negative                8514                  77\n",
       "Actual Positive                 761                 648"
      ]
     },
     "execution_count": 9,
     "metadata": {},
     "output_type": "execute_result"
    }
   ],
   "source": [
    "cf = pd.DataFrame()\n",
    "if os.path.isfile(\"neural_network_cf.csv\"):\n",
    "    cf = pd.read_csv(\"neural_network_cf.csv\")\n",
    "    cf.index = ['Actual Negative', 'Actual Positive']\n",
    "\n",
    "cf"
   ]
  },
  {
   "cell_type": "markdown",
   "metadata": {
    "id": "1cPRdgtqeYHX"
   },
   "source": [
    "---------------------------------------------------------------------------------------------------------------------\n"
   ]
  },
  {
   "cell_type": "markdown",
   "metadata": {
    "id": "AtWWN69-eCZW"
   },
   "source": [
    "Part 2: Run PCA and discover how many dimensions you can reduce the problem to before you start seeing significant decreases in accuracy."
   ]
  },
  {
   "cell_type": "markdown",
   "metadata": {
    "id": "6BBiYKWqeiMb"
   },
   "source": [
    "Run PCA:"
   ]
  },
  {
   "cell_type": "code",
   "execution_count": 13,
   "metadata": {},
   "outputs": [
    {
     "data": {
      "text/html": [
       "<div>\n",
       "<style scoped>\n",
       "    .dataframe tbody tr th:only-of-type {\n",
       "        vertical-align: middle;\n",
       "    }\n",
       "\n",
       "    .dataframe tbody tr th {\n",
       "        vertical-align: top;\n",
       "    }\n",
       "\n",
       "    .dataframe thead th {\n",
       "        text-align: right;\n",
       "    }\n",
       "</style>\n",
       "<table border=\"1\" class=\"dataframe\">\n",
       "  <thead>\n",
       "    <tr style=\"text-align: right;\">\n",
       "      <th></th>\n",
       "      <th>Dim_1</th>\n",
       "      <th>Dim_2</th>\n",
       "      <th>Dim_3</th>\n",
       "      <th>Dim_4</th>\n",
       "      <th>Dim_5</th>\n",
       "      <th>Dim_6</th>\n",
       "      <th>Dim_7</th>\n",
       "      <th>Dim_8</th>\n",
       "      <th>Dim_9</th>\n",
       "      <th>Dim_10</th>\n",
       "      <th>Dim_11</th>\n",
       "      <th>Dim_12</th>\n",
       "    </tr>\n",
       "  </thead>\n",
       "  <tbody>\n",
       "    <tr>\n",
       "      <th>RandomForest</th>\n",
       "      <td>0.7664</td>\n",
       "      <td>0.8908</td>\n",
       "      <td>0.8994</td>\n",
       "      <td>0.9051</td>\n",
       "      <td>0.9095</td>\n",
       "      <td>0.9099</td>\n",
       "      <td>0.9097</td>\n",
       "      <td>0.9103</td>\n",
       "      <td>0.9104</td>\n",
       "      <td>0.9096</td>\n",
       "      <td>0.9102</td>\n",
       "      <td>0.9101</td>\n",
       "    </tr>\n",
       "    <tr>\n",
       "      <th>KNN</th>\n",
       "      <td>0.8387</td>\n",
       "      <td>0.8906</td>\n",
       "      <td>0.8946</td>\n",
       "      <td>0.9046</td>\n",
       "      <td>0.9108</td>\n",
       "      <td>0.9108</td>\n",
       "      <td>0.9108</td>\n",
       "      <td>0.9108</td>\n",
       "      <td>0.9108</td>\n",
       "      <td>0.9108</td>\n",
       "      <td>0.9108</td>\n",
       "      <td>0.9108</td>\n",
       "    </tr>\n",
       "    <tr>\n",
       "      <th>MLP</th>\n",
       "      <td>0.8591</td>\n",
       "      <td>0.8991</td>\n",
       "      <td>0.9018</td>\n",
       "      <td>0.9082</td>\n",
       "      <td>0.9144</td>\n",
       "      <td>0.9145</td>\n",
       "      <td>0.9150</td>\n",
       "      <td>0.9146</td>\n",
       "      <td>0.9141</td>\n",
       "      <td>0.9137</td>\n",
       "      <td>0.9144</td>\n",
       "      <td>0.9138</td>\n",
       "    </tr>\n",
       "  </tbody>\n",
       "</table>\n",
       "</div>"
      ],
      "text/plain": [
       "               Dim_1   Dim_2   Dim_3   Dim_4   Dim_5   Dim_6   Dim_7   Dim_8  \\\n",
       "RandomForest  0.7664  0.8908  0.8994  0.9051  0.9095  0.9099  0.9097  0.9103   \n",
       "KNN           0.8387  0.8906  0.8946  0.9046  0.9108  0.9108  0.9108  0.9108   \n",
       "MLP           0.8591  0.8991  0.9018  0.9082  0.9144  0.9145  0.9150  0.9146   \n",
       "\n",
       "               Dim_9  Dim_10  Dim_11  Dim_12  \n",
       "RandomForest  0.9104  0.9096  0.9102  0.9101  \n",
       "KNN           0.9108  0.9108  0.9108  0.9108  \n",
       "MLP           0.9141  0.9137  0.9144  0.9138  "
      ]
     },
     "execution_count": 13,
     "metadata": {},
     "output_type": "execute_result"
    }
   ],
   "source": [
    "from sklearn.decomposition import PCA\n",
    "from sklearn.ensemble import RandomForestClassifier\n",
    "from sklearn.neighbors import KNeighborsClassifier\n",
    "from sklearn.neural_network import MLPClassifier\n",
    "from sklearn.model_selection import cross_val_score, StratifiedKFold\n",
    "from concurrent.futures import ThreadPoolExecutor, as_completed\n",
    "\n",
    "resutls_df = pd.DataFrame()\n",
    "\n",
    "if not os.path.isfile('pca_accuracies.csv'):\n",
    "    models = {\n",
    "        \"RandomForest\": RandomForestClassifier(random_state=0),\n",
    "        \"KNN\": KNeighborsClassifier(),\n",
    "        \"MLP\": MLPClassifier(hidden_layer_sizes=(50,), max_iter=200, random_state=0)\n",
    "    }\n",
    "    kf = StratifiedKFold(n_splits=10, shuffle=True, random_state=0)\n",
    "\n",
    "    def evaluate_model_with_pca(model_name, model, n_components):\n",
    "        pca = PCA(n_components=n_components)\n",
    "        X_pca = pca.fit_transform(X)  # Transform the features with PCA\n",
    "        accuracy = cross_val_score(model, X_pca, y, cv=kf, scoring='accuracy').mean()\n",
    "        return model_name, n_components, accuracy\n",
    "\n",
    "    # Run cross-validation for each model in parallel\n",
    "    results = {model_name: [] for model_name in models.keys()}\n",
    "    with ThreadPoolExecutor() as executor:\n",
    "        futures = []\n",
    "        for model_name, model in models.items():\n",
    "            for n_components in range(1, X.shape[1] + 1):\n",
    "                futures.append(executor.submit(evaluate_model_with_pca, model_name, model, n_components))\n",
    "        \n",
    "        for future in as_completed(futures):\n",
    "            model_name, n_components, accuracy = future.result()\n",
    "            results[model_name].append((n_components, accuracy))\n",
    "\n",
    "    # Convert results to a DataFrame with models as index and PCA components as columns\n",
    "    data = {}\n",
    "    for model_name, scores in results.items():\n",
    "        scores_sorted = sorted(scores, key=lambda x: x[0]) \n",
    "        accuracies = [score[1] for score in scores_sorted]\n",
    "        data[model_name] = accuracies\n",
    "\n",
    "    pca_dims = [f\"Dim_{i}\" for i in range(1, X.shape[1] + 1)]\n",
    "    results_df = pd.DataFrame(data, index=pca_dims).T\n",
    "    results_df.to_csv(\"pca_accuracies.csv\")\n",
    "else:\n",
    "    results_df = pd.read_csv('pca_accuracies.csv', index_col='Unnamed: 0')\n",
    "    \n",
    "results_df"
   ]
  },
  {
   "cell_type": "markdown",
   "metadata": {},
   "source": [
    "How many dimensions can you reduce? (Explain your answer)"
   ]
  },
  {
   "cell_type": "code",
   "execution_count": null,
   "metadata": {},
   "outputs": [
    {
     "data": {
      "image/png": "[encoded data removed]",
      "text/plain": [
       "<Figure size 1000x600 with 1 Axes>"
      ]
     },
     "metadata": {},
     "output_type": "display_data"
    }
   ],
   "source": [
    "import matplotlib.pyplot as plt\n",
    "\n",
    "pca_dimensions = list(range(1, 13))\n",
    "\n",
    "# Plot accuracies vs. PCA dimensions for each model\n",
    "plt.figure(figsize=(10, 6))\n",
    "for model_name, accuracies in data.items():\n",
    "    plt.plot(pca_dimensions, accuracies, marker='o', label=model_name)\n",
    "\n",
    "plt.xlabel(\"PCA Dimensions\")\n",
    "plt.ylabel(\"Accuracy\")\n",
    "plt.xticks(pca_dimensions)\n",
    "plt.title(\"Accuracies vs. PCA Dimensions for Each Model\")\n",
    "plt.legend()\n",
    "plt.grid(True)\n",
    "plt.show()"
   ]
  },
  {
   "cell_type": "markdown",
   "metadata": {},
   "source": [
    "After running PCA with Ten-Fold Cross Validation on the RandomForest, KNN, and MLP classifiers, we observe consistent accuracy when reducing up to 4-5 dimensions, indicating that the models retain high performance with this level of reduction. When reducing 6-10 dimensions, there is a slight drop in accuracy, though it remains relatively stable. However, reducing 11 dimensions (leaving only 1 feature) leads to a significant drop in accuracy, showing that too much information is lost. This analysis suggests that we can reduce up to 4-5 dimensions confidently, with some tolerance up to 10, before experiencing a major impact on prediction accuracy."
   ]
  }
 ],
 "metadata": {
  "colab": {
   "provenance": []
  },
  "kernelspec": {
   "display_name": "Python 3",
   "language": "python",
   "name": "python3"
  },
  "language_info": {
   "codemirror_mode": {
    "name": "ipython",
    "version": 3
   },
   "file_extension": ".py",
   "mimetype": "text/x-python",
   "name": "python",
   "nbconvert_exporter": "python",
   "pygments_lexer": "ipython3",
   "version": "3.8.10"
  }
 },
 "nbformat": 4,
 "nbformat_minor": 0
}

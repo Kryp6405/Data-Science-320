{
 "cells": [
  {
   "cell_type": "markdown",
   "metadata": {},
   "source": [
    "Import Required Libraries"
   ]
  },
  {
   "cell_type": "code",
   "execution_count": 3,
   "metadata": {},
   "outputs": [],
   "source": [
    "import pandas as pd\n",
    "import matplotlib.pyplot as plt\n",
    "import numpy as np\n",
    "from scipy.stats import chi2_contingency\n",
    "import seaborn as sns\n",
    "import re"
   ]
  },
  {
   "cell_type": "markdown",
   "metadata": {},
   "source": [
    "Retrieve Datasets as Dataframes"
   ]
  },
  {
   "cell_type": "code",
   "execution_count": 4,
   "metadata": {},
   "outputs": [],
   "source": [
    "df_2024 = pd.read_csv('Dataset Generation (2024) (Responses) - Form Responses 1.csv')\n",
    "df_fardina = pd.read_csv('Dataset Generation (Fardina) (Responses) - Form Responses 1.csv')\n",
    "df_max = pd.read_csv('Dataset Generation (Max) (Responses) - Form Responses 1.csv')"
   ]
  },
  {
   "cell_type": "code",
   "execution_count": 5,
   "metadata": {},
   "outputs": [],
   "source": [
    "df_2024.drop_duplicates(inplace=True)\n",
    "df_fardina.drop_duplicates(inplace=True)\n",
    "df_max.drop_duplicates(inplace=True)\n",
    "\n",
    "df_2024.dropna(inplace=True)\n",
    "df_fardina.dropna(inplace=True)\n",
    "df_max.dropna(inplace=True)\n",
    "\n",
    "short_cols = ['Time', 'Year', 'Age', 'Politics of Parents', 'Politics of Self', 'Spirituality', 'Gender', 'Q1: Ignored Knee Pain', 'Q2: Rejected Aisle Walk', 'Q3: Trust Fund Split 50/50', 'Q4: Schooling Seperate Finances', 'Q5: Lost Cat, No Reward', 'Q6: Surprisig Child Drop-Off', 'Q7: Business Class Over Kids', 'Q8: Single Parent, Four Kids', 'Q9: Split Spouse Child Support', 'Q10: Expensive School, Cheap Career', 'Q11: Ex Wedding Invitation Revoked', 'Q12: Relatives Unapprove Wedding', 'Q13: Pregnant Wife, No Drinks', 'Q14: Rejected Dyed Hair']  \n",
    "\n",
    "df_fardina_non_priming = pd.DataFrame()\n",
    "df_fardina_non_priming[df_fardina.columns.to_list()[0:7] + df_fardina.columns.to_list()[8:]] = df_fardina[df_fardina.columns.to_list()[0:7] + df_fardina.columns.to_list()[8:]]\n",
    "\n",
    "fardina_cols = df_fardina_non_priming.columns.to_list()\n",
    "max_cols = df_max.columns.to_list()\n",
    "fardina_col_mapping = dict(zip(fardina_cols, short_cols))\n",
    "max_col_mapping = dict(zip(max_cols, short_cols))\n",
    "\n",
    "df_fardina_final = df_fardina_non_priming.rename(columns=fardina_col_mapping)\n",
    "df_max_final = df_max.rename(columns=max_col_mapping)\n",
    "\n",
    "df_2023_final = pd.concat([df_fardina_final, df_max_final])\n",
    "df_2023_final['Gender'] = df_2023_final['Gender'].apply(func=lambda s: s.replace('Famale', 'Female') if isinstance(s, str) else s)\n",
    "\n",
    "str_replace = lambda s: s.replace('religious', 'spiritual') if isinstance(s, str) else s\n",
    "df_2024['How would you rate your religiousness?'] = df_2024['How would you rate your religiousness?'].apply(func=str_replace)\n",
    "\n",
    "d2024_cols = df_2024.columns.to_list()\n",
    "d2024_col_mapping = dict(zip(d2024_cols, short_cols))\n",
    "df_2024_final = df_2024.rename(columns=d2024_col_mapping)\n",
    "\n",
    "df_all = pd.concat([df_2023_final, df_2024_final])\n",
    "\n",
    "df_fardina_priming_final = df_fardina_final.copy()\n",
    "df_fardina_priming_final['Compassionate'] = df_fardina['Would you describe yourself as compassionate?']"
   ]
  },
  {
   "cell_type": "code",
   "execution_count": null,
   "metadata": {},
   "outputs": [],
   "source": []
  }
 ],
 "metadata": {
  "kernelspec": {
   "display_name": "Python 3",
   "language": "python",
   "name": "python3"
  },
  "language_info": {
   "codemirror_mode": {
    "name": "ipython",
    "version": 3
   },
   "file_extension": ".py",
   "mimetype": "text/x-python",
   "name": "python",
   "nbconvert_exporter": "python",
   "pygments_lexer": "ipython3",
   "version": "3.9.13"
  }
 },
 "nbformat": 4,
 "nbformat_minor": 2
}
